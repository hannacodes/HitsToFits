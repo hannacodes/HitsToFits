{
 "cells": [
  {
   "attachments": {},
   "cell_type": "markdown",
   "metadata": {},
   "source": [
    "# Update pip\n",
    "python -m pip install -U pip\n",
    "# Install scikit-image\n",
    "python -m pip install -U scikit-image\n",
    "\n",
    "pip3.11 install pandas\n",
    "python -m pip install -U matplotlib\n",
    "python -m pip install -U scikit-image\n",
    "pip install Pillow"
   ]
  },
  {
   "cell_type": "code",
   "execution_count": 2,
   "metadata": {},
   "outputs": [],
   "source": [
    "import pandas as pd\n",
    "import numpy as np\n",
    "import matplotlib.pyplot as plt\n",
    "%matplotlib inline\n",
    "from PIL import Image\n",
    "import imageio\n",
    "import matplotlib.pyplot as plt\n",
    "%matplotlib inline\n"
   ]
  },
  {
   "cell_type": "code",
   "execution_count": null,
   "metadata": {},
   "outputs": [],
   "source": [
    "im = Image.open('images/blushrt2.png')\n",
    "im"
   ]
  },
  {
   "cell_type": "code",
   "execution_count": null,
   "metadata": {},
   "outputs": [],
   "source": [
    "im2 = Image.open('images/blushrt3.png')\n",
    "im2"
   ]
  },
  {
   "cell_type": "code",
   "execution_count": 9,
   "metadata": {},
   "outputs": [
    {
     "name": "stdout",
     "output_type": "stream",
     "text": [
      "r: 108.01280197704082\n",
      "g: 197.10218654336734\n",
      "b: 221.29592857142856\n"
     ]
    }
   ],
   "source": [
    "rgb2 = list(im2.getdata())\n",
    "r = 0\n",
    "g = 0\n",
    "b = 0\n",
    "for pixel in rgb2:\n",
    "    r += pixel[0]\n",
    "    g += pixel[1]\n",
    "    b += pixel[2]\n",
    "print(\"r:\", r / len(rgb2))\n",
    "print(\"g:\", g / len(rgb2))\n",
    "print(\"b:\", b / len(rgb2))"
   ]
  }
 ],
 "metadata": {
  "kernelspec": {
   "display_name": "Python 3",
   "language": "python",
   "name": "python3"
  },
  "language_info": {
   "codemirror_mode": {
    "name": "ipython",
    "version": 3
   },
   "file_extension": ".py",
   "mimetype": "text/x-python",
   "name": "python",
   "nbconvert_exporter": "python",
   "pygments_lexer": "ipython3",
   "version": "3.11.2"
  },
  "orig_nbformat": 4,
  "vscode": {
   "interpreter": {
    "hash": "f6efdcc8197524dc046b64824df525dd8d4d21184b82b6f2c01e43d7776c32ca"
   }
  }
 },
 "nbformat": 4,
 "nbformat_minor": 2
}
