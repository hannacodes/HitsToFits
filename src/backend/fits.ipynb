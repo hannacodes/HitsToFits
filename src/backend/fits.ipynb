{
 "cells": [
  {
   "cell_type": "code",
   "execution_count": 12,
   "metadata": {},
   "outputs": [],
   "source": [
    "import pandas as pd\n",
    "import numpy as np\n",
    "import matplotlib.pyplot as plt\n",
    "%matplotlib inline\n",
    "from PIL import Image\n",
    "import imageio\n",
    "import matplotlib.pyplot as plt\n",
    "%matplotlib inline\n"
   ]
  },
  {
   "cell_type": "code",
   "execution_count": 21,
   "metadata": {},
   "outputs": [],
   "source": [
    "im = Image.open('images/blushrt.png')\n",
    "pixels = list(im.getdata())"
   ]
  },
  {
   "cell_type": "code",
   "execution_count": 22,
   "metadata": {},
   "outputs": [],
   "source": [
    "img = Image.open('images/blushrt.png')\n",
    "rgba = img.convert(\"RGBA\")\n",
    "datas = rgba.getdata()"
   ]
  },
  {
   "cell_type": "code",
   "execution_count": 30,
   "metadata": {},
   "outputs": [],
   "source": [
    "r = 0\n",
    "g = 0\n",
    "b = 0\n",
    "for pixel in pixels:\n",
    "    r += pixel[0]\n",
    "    g += pixel[1]\n",
    "    b += pixel[2]"
   ]
  },
  {
   "cell_type": "code",
   "execution_count": 32,
   "metadata": {},
   "outputs": [
    {
     "name": "stdout",
     "output_type": "stream",
     "text": [
      "r: 143.43764326249027\n",
      "g: 164.83167686658507\n",
      "b: 203.10629019695116\n"
     ]
    }
   ],
   "source": [
    "\n",
    "print(\"r:\", r / len(pixels))\n",
    "print(\"g:\", g / len(pixels))\n",
    "print(\"b:\", b / len(pixels))\n",
    "    "
   ]
  }
 ],
 "metadata": {
  "kernelspec": {
   "display_name": "Python 3",
   "language": "python",
   "name": "python3"
  },
  "language_info": {
   "codemirror_mode": {
    "name": "ipython",
    "version": 3
   },
   "file_extension": ".py",
   "mimetype": "text/x-python",
   "name": "python",
   "nbconvert_exporter": "python",
   "pygments_lexer": "ipython3",
   "version": "3.11.2"
  },
  "orig_nbformat": 4,
  "vscode": {
   "interpreter": {
    "hash": "b1f30d3a3770a85a94f5338e5b281d56fdffaf6a4a30f6fa2d5a862e7dee8c95"
   }
  }
 },
 "nbformat": 4,
 "nbformat_minor": 2
}
